{
 "cells": [
  {
   "cell_type": "code",
   "execution_count": 184,
   "metadata": {
    "collapsed": false
   },
   "outputs": [],
   "source": [
    "import pandas as pd\n",
    "import numpy as np\n",
    "import random\n",
    "import datetime\n",
    "import matplotlib.pyplot as plt\n",
    "%matplotlib inline\n",
    "import seaborn as sns\n",
    "import pandasql as ps"
   ]
  },
  {
   "cell_type": "markdown",
   "metadata": {},
   "source": [
    "#### 1. 处理用户app使用习惯维度的feature\n",
    "\n",
    "读取app_categories.csv"
   ]
  },
  {
   "cell_type": "code",
   "execution_count": 185,
   "metadata": {
    "collapsed": false
   },
   "outputs": [
    {
     "name": "stdout",
     "output_type": "stream",
     "text": [
      "<class 'pandas.core.frame.DataFrame'>\n",
      "RangeIndex: 217041 entries, 0 to 217040\n",
      "Data columns (total 2 columns):\n",
      "appID          217041 non-null int64\n",
      "appCategory    217041 non-null int64\n",
      "dtypes: int64(2)\n",
      "memory usage: 3.3 MB\n",
      "None\n",
      "               appID    appCategory\n",
      "count  217041.000000  217041.000000\n",
      "mean   137220.306472     161.856133\n",
      "std    105340.872671     157.746571\n",
      "min        14.000000       0.000000\n",
      "25%     54585.000000       0.000000\n",
      "50%    111520.000000     106.000000\n",
      "75%    195882.000000     301.000000\n",
      "max    433269.000000     503.000000\n"
     ]
    },
    {
     "data": {
      "text/plain": [
       "28"
      ]
     },
     "execution_count": 185,
     "metadata": {},
     "output_type": "execute_result"
    }
   ],
   "source": [
    "df_app_categories = pd.read_csv('dataset/pre/app_categories.csv')\n",
    "print(df_app_categories.info())\n",
    "print(df_app_categories.describe())\n",
    "len(df_app_categories.appCategory.unique())"
   ]
  },
  {
   "cell_type": "markdown",
   "metadata": {},
   "source": [
    "读取 user_app_actions.csv"
   ]
  },
  {
   "cell_type": "code",
   "execution_count": 186,
   "metadata": {
    "collapsed": false
   },
   "outputs": [
    {
     "name": "stdout",
     "output_type": "stream",
     "text": [
      "<class 'pandas.core.frame.DataFrame'>\n",
      "RangeIndex: 6003471 entries, 0 to 6003470\n",
      "Data columns (total 3 columns):\n",
      "userID         int64\n",
      "installTime    int64\n",
      "appID          int64\n",
      "dtypes: int64(3)\n",
      "memory usage: 137.4 MB\n",
      "None\n",
      "             userID   installTime         appID\n",
      "count  6.003471e+06  6.003471e+06  6.003471e+06\n",
      "mean   1.403576e+06  1.483695e+05  5.125716e+03\n",
      "std    8.074011e+05  9.097316e+04  2.118739e+04\n",
      "min    1.000000e+00  1.000000e+04  3.540000e+02\n",
      "25%    7.055445e+05  6.164500e+04  5.890000e+02\n",
      "50%    1.404560e+06  1.408000e+05  8.270000e+02\n",
      "75%    2.100952e+06  2.320160e+05  1.969000e+03\n",
      "max    2.805117e+06  3.023590e+05  4.332670e+05\n"
     ]
    },
    {
     "data": {
      "text/html": [
       "<div>\n",
       "<table border=\"1\" class=\"dataframe\">\n",
       "  <thead>\n",
       "    <tr style=\"text-align: right;\">\n",
       "      <th></th>\n",
       "      <th>userID</th>\n",
       "      <th>installTime</th>\n",
       "      <th>appID</th>\n",
       "    </tr>\n",
       "  </thead>\n",
       "  <tbody>\n",
       "    <tr>\n",
       "      <th>1189493</th>\n",
       "      <td>560310</td>\n",
       "      <td>251901</td>\n",
       "      <td>608</td>\n",
       "    </tr>\n",
       "    <tr>\n",
       "      <th>572290</th>\n",
       "      <td>271897</td>\n",
       "      <td>111403</td>\n",
       "      <td>818</td>\n",
       "    </tr>\n",
       "    <tr>\n",
       "      <th>3514642</th>\n",
       "      <td>1641340</td>\n",
       "      <td>12345</td>\n",
       "      <td>1824</td>\n",
       "    </tr>\n",
       "    <tr>\n",
       "      <th>5547405</th>\n",
       "      <td>2590679</td>\n",
       "      <td>21951</td>\n",
       "      <td>455</td>\n",
       "    </tr>\n",
       "    <tr>\n",
       "      <th>2962808</th>\n",
       "      <td>1386246</td>\n",
       "      <td>30756</td>\n",
       "      <td>710</td>\n",
       "    </tr>\n",
       "  </tbody>\n",
       "</table>\n",
       "</div>"
      ],
      "text/plain": [
       "          userID  installTime  appID\n",
       "1189493   560310       251901    608\n",
       "572290    271897       111403    818\n",
       "3514642  1641340        12345   1824\n",
       "5547405  2590679        21951    455\n",
       "2962808  1386246        30756    710"
      ]
     },
     "execution_count": 186,
     "metadata": {},
     "output_type": "execute_result"
    }
   ],
   "source": [
    "df_user_appactions = pd.read_csv('dataset/pre/user_app_actions.csv')\n",
    "print(df_user_appactions.info())\n",
    "print(df_user_appactions.describe())\n",
    "df_user_appactions.sample(5)"
   ]
  },
  {
   "cell_type": "markdown",
   "metadata": {},
   "source": [
    "读取 user_installedapps.csv"
   ]
  },
  {
   "cell_type": "code",
   "execution_count": 187,
   "metadata": {
    "collapsed": false
   },
   "outputs": [
    {
     "name": "stdout",
     "output_type": "stream",
     "text": [
      "<class 'pandas.core.frame.DataFrame'>\n",
      "RangeIndex: 84039009 entries, 0 to 84039008\n",
      "Data columns (total 2 columns):\n",
      "userID    int64\n",
      "appID     int64\n",
      "dtypes: int64(2)\n",
      "memory usage: 1.3 GB\n",
      "None\n",
      "             userID         appID\n",
      "count  8.403901e+07  8.403901e+07\n",
      "mean   1.400933e+06  1.389724e+03\n",
      "std    8.096765e+05  8.620736e+03\n",
      "min    1.000000e+00  3.540000e+02\n",
      "25%    7.000290e+05  4.940000e+02\n",
      "50%    1.399038e+06  5.310000e+02\n",
      "75%    2.102402e+06  6.670000e+02\n",
      "max    2.805117e+06  4.332690e+05\n"
     ]
    },
    {
     "data": {
      "text/html": [
       "<div>\n",
       "<table border=\"1\" class=\"dataframe\">\n",
       "  <thead>\n",
       "    <tr style=\"text-align: right;\">\n",
       "      <th></th>\n",
       "      <th>userID</th>\n",
       "      <th>appID</th>\n",
       "    </tr>\n",
       "  </thead>\n",
       "  <tbody>\n",
       "    <tr>\n",
       "      <th>46504722</th>\n",
       "      <td>1549353</td>\n",
       "      <td>9498</td>\n",
       "    </tr>\n",
       "    <tr>\n",
       "      <th>27485792</th>\n",
       "      <td>915323</td>\n",
       "      <td>582</td>\n",
       "    </tr>\n",
       "    <tr>\n",
       "      <th>70511677</th>\n",
       "      <td>2352599</td>\n",
       "      <td>496</td>\n",
       "    </tr>\n",
       "    <tr>\n",
       "      <th>56497484</th>\n",
       "      <td>1882690</td>\n",
       "      <td>490</td>\n",
       "    </tr>\n",
       "    <tr>\n",
       "      <th>40560579</th>\n",
       "      <td>1350642</td>\n",
       "      <td>1211</td>\n",
       "    </tr>\n",
       "  </tbody>\n",
       "</table>\n",
       "</div>"
      ],
      "text/plain": [
       "           userID  appID\n",
       "46504722  1549353   9498\n",
       "27485792   915323    582\n",
       "70511677  2352599    496\n",
       "56497484  1882690    490\n",
       "40560579  1350642   1211"
      ]
     },
     "execution_count": 187,
     "metadata": {},
     "output_type": "execute_result"
    }
   ],
   "source": [
    "df_user_installedapps = pd.read_csv('dataset/pre/user_installedapps.csv')\n",
    "print(df_user_installedapps.info())\n",
    "print(df_user_installedapps.describe())\n",
    "df_user_installedapps.sample(5)"
   ]
  },
  {
   "cell_type": "markdown",
   "metadata": {},
   "source": [
    "1.1 进行feature engineering\n",
    "希望得到每个user 平均使用多少app，和使用多少种类的app"
   ]
  },
  {
   "cell_type": "code",
   "execution_count": 188,
   "metadata": {
    "collapsed": false
   },
   "outputs": [],
   "source": [
    "df_merge=pd.merge(df_user_installedapps,df_app_categories,how='inner',on='appID')"
   ]
  },
  {
   "cell_type": "code",
   "execution_count": 189,
   "metadata": {
    "collapsed": false
   },
   "outputs": [
    {
     "data": {
      "text/html": [
       "<div>\n",
       "<table border=\"1\" class=\"dataframe\">\n",
       "  <thead>\n",
       "    <tr style=\"text-align: right;\">\n",
       "      <th></th>\n",
       "      <th>userID</th>\n",
       "      <th>appID</th>\n",
       "      <th>appCategory</th>\n",
       "    </tr>\n",
       "  </thead>\n",
       "  <tbody>\n",
       "    <tr>\n",
       "      <th>0</th>\n",
       "      <td>1</td>\n",
       "      <td>357</td>\n",
       "      <td>201</td>\n",
       "    </tr>\n",
       "    <tr>\n",
       "      <th>1</th>\n",
       "      <td>10</td>\n",
       "      <td>357</td>\n",
       "      <td>201</td>\n",
       "    </tr>\n",
       "    <tr>\n",
       "      <th>2</th>\n",
       "      <td>20</td>\n",
       "      <td>357</td>\n",
       "      <td>201</td>\n",
       "    </tr>\n",
       "    <tr>\n",
       "      <th>3</th>\n",
       "      <td>25</td>\n",
       "      <td>357</td>\n",
       "      <td>201</td>\n",
       "    </tr>\n",
       "    <tr>\n",
       "      <th>4</th>\n",
       "      <td>37</td>\n",
       "      <td>357</td>\n",
       "      <td>201</td>\n",
       "    </tr>\n",
       "  </tbody>\n",
       "</table>\n",
       "</div>"
      ],
      "text/plain": [
       "   userID  appID  appCategory\n",
       "0       1    357          201\n",
       "1      10    357          201\n",
       "2      20    357          201\n",
       "3      25    357          201\n",
       "4      37    357          201"
      ]
     },
     "execution_count": 189,
     "metadata": {},
     "output_type": "execute_result"
    }
   ],
   "source": [
    "df_merge.head()"
   ]
  },
  {
   "cell_type": "code",
   "execution_count": 190,
   "metadata": {
    "collapsed": false
   },
   "outputs": [],
   "source": [
    "df_numofapp=pd.DataFrame({'numOfApp' : df_merge[[\"userID\",\"appID\"]].groupby( [ \"userID\"] ).size()}).reset_index()"
   ]
  },
  {
   "cell_type": "code",
   "execution_count": 191,
   "metadata": {
    "collapsed": false
   },
   "outputs": [
    {
     "data": {
      "text/html": [
       "<div>\n",
       "<table border=\"1\" class=\"dataframe\">\n",
       "  <thead>\n",
       "    <tr style=\"text-align: right;\">\n",
       "      <th></th>\n",
       "      <th>userID</th>\n",
       "      <th>numOfApp</th>\n",
       "    </tr>\n",
       "  </thead>\n",
       "  <tbody>\n",
       "    <tr>\n",
       "      <th>0</th>\n",
       "      <td>1</td>\n",
       "      <td>79</td>\n",
       "    </tr>\n",
       "    <tr>\n",
       "      <th>1</th>\n",
       "      <td>9</td>\n",
       "      <td>3</td>\n",
       "    </tr>\n",
       "    <tr>\n",
       "      <th>2</th>\n",
       "      <td>10</td>\n",
       "      <td>97</td>\n",
       "    </tr>\n",
       "    <tr>\n",
       "      <th>3</th>\n",
       "      <td>12</td>\n",
       "      <td>38</td>\n",
       "    </tr>\n",
       "    <tr>\n",
       "      <th>4</th>\n",
       "      <td>14</td>\n",
       "      <td>62</td>\n",
       "    </tr>\n",
       "  </tbody>\n",
       "</table>\n",
       "</div>"
      ],
      "text/plain": [
       "   userID  numOfApp\n",
       "0       1        79\n",
       "1       9         3\n",
       "2      10        97\n",
       "3      12        38\n",
       "4      14        62"
      ]
     },
     "execution_count": 191,
     "metadata": {},
     "output_type": "execute_result"
    }
   ],
   "source": [
    "df_numofapp.head()"
   ]
  },
  {
   "cell_type": "code",
   "execution_count": 192,
   "metadata": {
    "collapsed": false
   },
   "outputs": [],
   "source": [
    "df_frequency=pd.DataFrame({'number':df_merge[[\"userID\",\"appCategory\"]].groupby( [\"userID\",'appCategory'] ).size()}).reset_index()"
   ]
  },
  {
   "cell_type": "code",
   "execution_count": 193,
   "metadata": {
    "collapsed": false
   },
   "outputs": [
    {
     "data": {
      "text/html": [
       "<div>\n",
       "<table border=\"1\" class=\"dataframe\">\n",
       "  <thead>\n",
       "    <tr style=\"text-align: right;\">\n",
       "      <th></th>\n",
       "      <th>userID</th>\n",
       "      <th>appCategory</th>\n",
       "      <th>number</th>\n",
       "    </tr>\n",
       "  </thead>\n",
       "  <tbody>\n",
       "    <tr>\n",
       "      <th>0</th>\n",
       "      <td>1</td>\n",
       "      <td>0</td>\n",
       "      <td>37</td>\n",
       "    </tr>\n",
       "    <tr>\n",
       "      <th>1</th>\n",
       "      <td>1</td>\n",
       "      <td>103</td>\n",
       "      <td>1</td>\n",
       "    </tr>\n",
       "    <tr>\n",
       "      <th>2</th>\n",
       "      <td>1</td>\n",
       "      <td>108</td>\n",
       "      <td>2</td>\n",
       "    </tr>\n",
       "    <tr>\n",
       "      <th>3</th>\n",
       "      <td>1</td>\n",
       "      <td>201</td>\n",
       "      <td>9</td>\n",
       "    </tr>\n",
       "    <tr>\n",
       "      <th>4</th>\n",
       "      <td>1</td>\n",
       "      <td>203</td>\n",
       "      <td>5</td>\n",
       "    </tr>\n",
       "  </tbody>\n",
       "</table>\n",
       "</div>"
      ],
      "text/plain": [
       "   userID  appCategory  number\n",
       "0       1            0      37\n",
       "1       1          103       1\n",
       "2       1          108       2\n",
       "3       1          201       9\n",
       "4       1          203       5"
      ]
     },
     "execution_count": 193,
     "metadata": {},
     "output_type": "execute_result"
    }
   ],
   "source": [
    "df_frequency.head()"
   ]
  },
  {
   "cell_type": "code",
   "execution_count": 194,
   "metadata": {
    "collapsed": false
   },
   "outputs": [],
   "source": [
    "df_frewithoutZero=df_frequency[np.all(df_frequency != 0 ,axis=1)]"
   ]
  },
  {
   "cell_type": "code",
   "execution_count": 195,
   "metadata": {
    "collapsed": false
   },
   "outputs": [],
   "source": [
    "str1=\"SELECT userID, appCategory, Max(number) FROM df_frewithoutZero GROUP BY userID\"\n",
    "df_MaxCate=pd.DataFrame(ps.sqldf(str1,locals()))"
   ]
  },
  {
   "cell_type": "code",
   "execution_count": 196,
   "metadata": {
    "collapsed": false
   },
   "outputs": [
    {
     "data": {
      "text/html": [
       "<div>\n",
       "<table border=\"1\" class=\"dataframe\">\n",
       "  <thead>\n",
       "    <tr style=\"text-align: right;\">\n",
       "      <th></th>\n",
       "      <th>userID</th>\n",
       "      <th>appCategory</th>\n",
       "      <th>Max(number)</th>\n",
       "    </tr>\n",
       "  </thead>\n",
       "  <tbody>\n",
       "    <tr>\n",
       "      <th>0</th>\n",
       "      <td>1</td>\n",
       "      <td>201</td>\n",
       "      <td>9</td>\n",
       "    </tr>\n",
       "    <tr>\n",
       "      <th>1</th>\n",
       "      <td>9</td>\n",
       "      <td>210</td>\n",
       "      <td>1</td>\n",
       "    </tr>\n",
       "    <tr>\n",
       "      <th>2</th>\n",
       "      <td>10</td>\n",
       "      <td>503</td>\n",
       "      <td>18</td>\n",
       "    </tr>\n",
       "    <tr>\n",
       "      <th>3</th>\n",
       "      <td>12</td>\n",
       "      <td>301</td>\n",
       "      <td>5</td>\n",
       "    </tr>\n",
       "    <tr>\n",
       "      <th>4</th>\n",
       "      <td>14</td>\n",
       "      <td>503</td>\n",
       "      <td>19</td>\n",
       "    </tr>\n",
       "  </tbody>\n",
       "</table>\n",
       "</div>"
      ],
      "text/plain": [
       "   userID  appCategory  Max(number)\n",
       "0       1          201            9\n",
       "1       9          210            1\n",
       "2      10          503           18\n",
       "3      12          301            5\n",
       "4      14          503           19"
      ]
     },
     "execution_count": 196,
     "metadata": {},
     "output_type": "execute_result"
    }
   ],
   "source": [
    "df_MaxCate.head()"
   ]
  },
  {
   "cell_type": "code",
   "execution_count": 197,
   "metadata": {
    "collapsed": true
   },
   "outputs": [],
   "source": [
    "df_appFeature= pd.merge(df_MaxCate,df_numofapp, how='inner', on='userID')"
   ]
  },
  {
   "cell_type": "code",
   "execution_count": 198,
   "metadata": {
    "collapsed": false
   },
   "outputs": [
    {
     "data": {
      "text/html": [
       "<div>\n",
       "<table border=\"1\" class=\"dataframe\">\n",
       "  <thead>\n",
       "    <tr style=\"text-align: right;\">\n",
       "      <th></th>\n",
       "      <th>userID</th>\n",
       "      <th>appCategory</th>\n",
       "      <th>Max(number)</th>\n",
       "      <th>numOfApp</th>\n",
       "    </tr>\n",
       "  </thead>\n",
       "  <tbody>\n",
       "    <tr>\n",
       "      <th>0</th>\n",
       "      <td>1</td>\n",
       "      <td>201</td>\n",
       "      <td>9</td>\n",
       "      <td>79</td>\n",
       "    </tr>\n",
       "    <tr>\n",
       "      <th>1</th>\n",
       "      <td>9</td>\n",
       "      <td>210</td>\n",
       "      <td>1</td>\n",
       "      <td>3</td>\n",
       "    </tr>\n",
       "    <tr>\n",
       "      <th>2</th>\n",
       "      <td>10</td>\n",
       "      <td>503</td>\n",
       "      <td>18</td>\n",
       "      <td>97</td>\n",
       "    </tr>\n",
       "    <tr>\n",
       "      <th>3</th>\n",
       "      <td>12</td>\n",
       "      <td>301</td>\n",
       "      <td>5</td>\n",
       "      <td>38</td>\n",
       "    </tr>\n",
       "    <tr>\n",
       "      <th>4</th>\n",
       "      <td>14</td>\n",
       "      <td>503</td>\n",
       "      <td>19</td>\n",
       "      <td>62</td>\n",
       "    </tr>\n",
       "  </tbody>\n",
       "</table>\n",
       "</div>"
      ],
      "text/plain": [
       "   userID  appCategory  Max(number)  numOfApp\n",
       "0       1          201            9        79\n",
       "1       9          210            1         3\n",
       "2      10          503           18        97\n",
       "3      12          301            5        38\n",
       "4      14          503           19        62"
      ]
     },
     "execution_count": 198,
     "metadata": {},
     "output_type": "execute_result"
    }
   ],
   "source": [
    "df_appFeature.head()"
   ]
  },
  {
   "cell_type": "markdown",
   "metadata": {},
   "source": [
    "1.2 处理clickTime和installedTime的关系\n",
    "\n",
    "理论来说，应该查看clickTime是否在该用户的习惯装软件的时间范围内。\n",
    "所以应该先"
   ]
  },
  {
   "cell_type": "code",
   "execution_count": 199,
   "metadata": {
    "collapsed": true
   },
   "outputs": [],
   "source": [
    "df_train = pd.read_csv('dataset/pre/train.csv')"
   ]
  },
  {
   "cell_type": "code",
   "execution_count": 200,
   "metadata": {
    "collapsed": false
   },
   "outputs": [
    {
     "data": {
      "text/html": [
       "<div>\n",
       "<table border=\"1\" class=\"dataframe\">\n",
       "  <thead>\n",
       "    <tr style=\"text-align: right;\">\n",
       "      <th></th>\n",
       "      <th>label</th>\n",
       "      <th>clickTime</th>\n",
       "      <th>conversionTime</th>\n",
       "      <th>creativeID</th>\n",
       "      <th>userID</th>\n",
       "      <th>positionID</th>\n",
       "      <th>connectionType</th>\n",
       "      <th>telecomsOperator</th>\n",
       "    </tr>\n",
       "  </thead>\n",
       "  <tbody>\n",
       "    <tr>\n",
       "      <th>2078103</th>\n",
       "      <td>1</td>\n",
       "      <td>251308</td>\n",
       "      <td>261028.0</td>\n",
       "      <td>376</td>\n",
       "      <td>2559184</td>\n",
       "      <td>2579</td>\n",
       "      <td>1</td>\n",
       "      <td>3</td>\n",
       "    </tr>\n",
       "    <tr>\n",
       "      <th>2304709</th>\n",
       "      <td>1</td>\n",
       "      <td>260945</td>\n",
       "      <td>260945.0</td>\n",
       "      <td>4228</td>\n",
       "      <td>2801298</td>\n",
       "      <td>3322</td>\n",
       "      <td>1</td>\n",
       "      <td>2</td>\n",
       "    </tr>\n",
       "    <tr>\n",
       "      <th>633025</th>\n",
       "      <td>1</td>\n",
       "      <td>201505</td>\n",
       "      <td>201510.0</td>\n",
       "      <td>4565</td>\n",
       "      <td>1782210</td>\n",
       "      <td>2723</td>\n",
       "      <td>1</td>\n",
       "      <td>1</td>\n",
       "    </tr>\n",
       "    <tr>\n",
       "      <th>1131769</th>\n",
       "      <td>1</td>\n",
       "      <td>220820</td>\n",
       "      <td>220821.0</td>\n",
       "      <td>1675</td>\n",
       "      <td>498196</td>\n",
       "      <td>5375</td>\n",
       "      <td>1</td>\n",
       "      <td>1</td>\n",
       "    </tr>\n",
       "    <tr>\n",
       "      <th>679077</th>\n",
       "      <td>1</td>\n",
       "      <td>201653</td>\n",
       "      <td>230858.0</td>\n",
       "      <td>2235</td>\n",
       "      <td>1986697</td>\n",
       "      <td>231</td>\n",
       "      <td>1</td>\n",
       "      <td>1</td>\n",
       "    </tr>\n",
       "    <tr>\n",
       "      <th>1238727</th>\n",
       "      <td>1</td>\n",
       "      <td>221530</td>\n",
       "      <td>221653.0</td>\n",
       "      <td>1004</td>\n",
       "      <td>2208342</td>\n",
       "      <td>94</td>\n",
       "      <td>1</td>\n",
       "      <td>3</td>\n",
       "    </tr>\n",
       "    <tr>\n",
       "      <th>744791</th>\n",
       "      <td>1</td>\n",
       "      <td>202039</td>\n",
       "      <td>202039.0</td>\n",
       "      <td>2553</td>\n",
       "      <td>2617535</td>\n",
       "      <td>5358</td>\n",
       "      <td>1</td>\n",
       "      <td>2</td>\n",
       "    </tr>\n",
       "    <tr>\n",
       "      <th>2057796</th>\n",
       "      <td>1</td>\n",
       "      <td>251145</td>\n",
       "      <td>261029.0</td>\n",
       "      <td>2537</td>\n",
       "      <td>471424</td>\n",
       "      <td>2579</td>\n",
       "      <td>1</td>\n",
       "      <td>1</td>\n",
       "    </tr>\n",
       "    <tr>\n",
       "      <th>3640668</th>\n",
       "      <td>1</td>\n",
       "      <td>301902</td>\n",
       "      <td>301902.0</td>\n",
       "      <td>3869</td>\n",
       "      <td>2735204</td>\n",
       "      <td>4753</td>\n",
       "      <td>1</td>\n",
       "      <td>3</td>\n",
       "    </tr>\n",
       "    <tr>\n",
       "      <th>1644925</th>\n",
       "      <td>1</td>\n",
       "      <td>232107</td>\n",
       "      <td>242159.0</td>\n",
       "      <td>1537</td>\n",
       "      <td>1352916</td>\n",
       "      <td>2623</td>\n",
       "      <td>1</td>\n",
       "      <td>1</td>\n",
       "    </tr>\n",
       "    <tr>\n",
       "      <th>1581569</th>\n",
       "      <td>1</td>\n",
       "      <td>231737</td>\n",
       "      <td>241026.0</td>\n",
       "      <td>376</td>\n",
       "      <td>1399477</td>\n",
       "      <td>2579</td>\n",
       "      <td>1</td>\n",
       "      <td>2</td>\n",
       "    </tr>\n",
       "    <tr>\n",
       "      <th>427675</th>\n",
       "      <td>1</td>\n",
       "      <td>181805</td>\n",
       "      <td>181807.0</td>\n",
       "      <td>1543</td>\n",
       "      <td>2799135</td>\n",
       "      <td>2579</td>\n",
       "      <td>1</td>\n",
       "      <td>2</td>\n",
       "    </tr>\n",
       "    <tr>\n",
       "      <th>939091</th>\n",
       "      <td>1</td>\n",
       "      <td>211635</td>\n",
       "      <td>211636.0</td>\n",
       "      <td>4565</td>\n",
       "      <td>2257748</td>\n",
       "      <td>1431</td>\n",
       "      <td>1</td>\n",
       "      <td>3</td>\n",
       "    </tr>\n",
       "    <tr>\n",
       "      <th>2931405</th>\n",
       "      <td>1</td>\n",
       "      <td>281220</td>\n",
       "      <td>281241.0</td>\n",
       "      <td>4493</td>\n",
       "      <td>398080</td>\n",
       "      <td>675</td>\n",
       "      <td>1</td>\n",
       "      <td>1</td>\n",
       "    </tr>\n",
       "    <tr>\n",
       "      <th>1831878</th>\n",
       "      <td>1</td>\n",
       "      <td>241556</td>\n",
       "      <td>241611.0</td>\n",
       "      <td>4565</td>\n",
       "      <td>2582372</td>\n",
       "      <td>5024</td>\n",
       "      <td>1</td>\n",
       "      <td>3</td>\n",
       "    </tr>\n",
       "    <tr>\n",
       "      <th>2211108</th>\n",
       "      <td>1</td>\n",
       "      <td>252152</td>\n",
       "      <td>252240.0</td>\n",
       "      <td>4893</td>\n",
       "      <td>598287</td>\n",
       "      <td>7619</td>\n",
       "      <td>1</td>\n",
       "      <td>2</td>\n",
       "    </tr>\n",
       "    <tr>\n",
       "      <th>51101</th>\n",
       "      <td>1</td>\n",
       "      <td>170806</td>\n",
       "      <td>170834.0</td>\n",
       "      <td>4565</td>\n",
       "      <td>2680606</td>\n",
       "      <td>4657</td>\n",
       "      <td>1</td>\n",
       "      <td>1</td>\n",
       "    </tr>\n",
       "    <tr>\n",
       "      <th>1478824</th>\n",
       "      <td>1</td>\n",
       "      <td>231020</td>\n",
       "      <td>231048.0</td>\n",
       "      <td>1128</td>\n",
       "      <td>1063729</td>\n",
       "      <td>3322</td>\n",
       "      <td>1</td>\n",
       "      <td>1</td>\n",
       "    </tr>\n",
       "    <tr>\n",
       "      <th>403875</th>\n",
       "      <td>1</td>\n",
       "      <td>181402</td>\n",
       "      <td>181405.0</td>\n",
       "      <td>1988</td>\n",
       "      <td>1405693</td>\n",
       "      <td>2784</td>\n",
       "      <td>1</td>\n",
       "      <td>1</td>\n",
       "    </tr>\n",
       "    <tr>\n",
       "      <th>1539158</th>\n",
       "      <td>1</td>\n",
       "      <td>231427</td>\n",
       "      <td>231428.0</td>\n",
       "      <td>4565</td>\n",
       "      <td>2369051</td>\n",
       "      <td>2306</td>\n",
       "      <td>1</td>\n",
       "      <td>1</td>\n",
       "    </tr>\n",
       "  </tbody>\n",
       "</table>\n",
       "</div>"
      ],
      "text/plain": [
       "         label  clickTime  conversionTime  creativeID   userID  positionID  \\\n",
       "2078103      1     251308        261028.0         376  2559184        2579   \n",
       "2304709      1     260945        260945.0        4228  2801298        3322   \n",
       "633025       1     201505        201510.0        4565  1782210        2723   \n",
       "1131769      1     220820        220821.0        1675   498196        5375   \n",
       "679077       1     201653        230858.0        2235  1986697         231   \n",
       "1238727      1     221530        221653.0        1004  2208342          94   \n",
       "744791       1     202039        202039.0        2553  2617535        5358   \n",
       "2057796      1     251145        261029.0        2537   471424        2579   \n",
       "3640668      1     301902        301902.0        3869  2735204        4753   \n",
       "1644925      1     232107        242159.0        1537  1352916        2623   \n",
       "1581569      1     231737        241026.0         376  1399477        2579   \n",
       "427675       1     181805        181807.0        1543  2799135        2579   \n",
       "939091       1     211635        211636.0        4565  2257748        1431   \n",
       "2931405      1     281220        281241.0        4493   398080         675   \n",
       "1831878      1     241556        241611.0        4565  2582372        5024   \n",
       "2211108      1     252152        252240.0        4893   598287        7619   \n",
       "51101        1     170806        170834.0        4565  2680606        4657   \n",
       "1478824      1     231020        231048.0        1128  1063729        3322   \n",
       "403875       1     181402        181405.0        1988  1405693        2784   \n",
       "1539158      1     231427        231428.0        4565  2369051        2306   \n",
       "\n",
       "         connectionType  telecomsOperator  \n",
       "2078103               1                 3  \n",
       "2304709               1                 2  \n",
       "633025                1                 1  \n",
       "1131769               1                 1  \n",
       "679077                1                 1  \n",
       "1238727               1                 3  \n",
       "744791                1                 2  \n",
       "2057796               1                 1  \n",
       "3640668               1                 3  \n",
       "1644925               1                 1  \n",
       "1581569               1                 2  \n",
       "427675                1                 2  \n",
       "939091                1                 3  \n",
       "2931405               1                 1  \n",
       "1831878               1                 3  \n",
       "2211108               1                 2  \n",
       "51101                 1                 1  \n",
       "1478824               1                 1  \n",
       "403875                1                 1  \n",
       "1539158               1                 1  "
      ]
     },
     "execution_count": 200,
     "metadata": {},
     "output_type": "execute_result"
    }
   ],
   "source": [
    "df_train[df_train.conversionTime.isnull() == False].sample(20)"
   ]
  },
  {
   "cell_type": "code",
   "execution_count": 201,
   "metadata": {
    "collapsed": false
   },
   "outputs": [
    {
     "data": {
      "text/html": [
       "<div>\n",
       "<table border=\"1\" class=\"dataframe\">\n",
       "  <thead>\n",
       "    <tr style=\"text-align: right;\">\n",
       "      <th></th>\n",
       "      <th>userID</th>\n",
       "      <th>installTime</th>\n",
       "      <th>appID</th>\n",
       "    </tr>\n",
       "  </thead>\n",
       "  <tbody>\n",
       "    <tr>\n",
       "      <th>5477413</th>\n",
       "      <td>2558286</td>\n",
       "      <td>151904</td>\n",
       "      <td>771</td>\n",
       "    </tr>\n",
       "    <tr>\n",
       "      <th>3970355</th>\n",
       "      <td>1852882</td>\n",
       "      <td>100154</td>\n",
       "      <td>594</td>\n",
       "    </tr>\n",
       "    <tr>\n",
       "      <th>4906990</th>\n",
       "      <td>2289549</td>\n",
       "      <td>260203</td>\n",
       "      <td>3389</td>\n",
       "    </tr>\n",
       "    <tr>\n",
       "      <th>1302988</th>\n",
       "      <td>613269</td>\n",
       "      <td>100048</td>\n",
       "      <td>369</td>\n",
       "    </tr>\n",
       "    <tr>\n",
       "      <th>3609685</th>\n",
       "      <td>1685651</td>\n",
       "      <td>111800</td>\n",
       "      <td>1183</td>\n",
       "    </tr>\n",
       "    <tr>\n",
       "      <th>3254719</th>\n",
       "      <td>1521654</td>\n",
       "      <td>111508</td>\n",
       "      <td>582</td>\n",
       "    </tr>\n",
       "    <tr>\n",
       "      <th>3228786</th>\n",
       "      <td>1509761</td>\n",
       "      <td>262104</td>\n",
       "      <td>806</td>\n",
       "    </tr>\n",
       "    <tr>\n",
       "      <th>2313624</th>\n",
       "      <td>1084790</td>\n",
       "      <td>221741</td>\n",
       "      <td>536</td>\n",
       "    </tr>\n",
       "    <tr>\n",
       "      <th>2299587</th>\n",
       "      <td>1078264</td>\n",
       "      <td>11421</td>\n",
       "      <td>698</td>\n",
       "    </tr>\n",
       "    <tr>\n",
       "      <th>5266994</th>\n",
       "      <td>2457525</td>\n",
       "      <td>12227</td>\n",
       "      <td>13986</td>\n",
       "    </tr>\n",
       "    <tr>\n",
       "      <th>1293541</th>\n",
       "      <td>609078</td>\n",
       "      <td>21203</td>\n",
       "      <td>582</td>\n",
       "    </tr>\n",
       "    <tr>\n",
       "      <th>5628857</th>\n",
       "      <td>2629640</td>\n",
       "      <td>22030</td>\n",
       "      <td>1341</td>\n",
       "    </tr>\n",
       "    <tr>\n",
       "      <th>656162</th>\n",
       "      <td>311108</td>\n",
       "      <td>242052</td>\n",
       "      <td>595</td>\n",
       "    </tr>\n",
       "    <tr>\n",
       "      <th>5097053</th>\n",
       "      <td>2379239</td>\n",
       "      <td>51853</td>\n",
       "      <td>1503</td>\n",
       "    </tr>\n",
       "    <tr>\n",
       "      <th>2242674</th>\n",
       "      <td>1051475</td>\n",
       "      <td>121948</td>\n",
       "      <td>3603</td>\n",
       "    </tr>\n",
       "    <tr>\n",
       "      <th>4708880</th>\n",
       "      <td>2196621</td>\n",
       "      <td>171516</td>\n",
       "      <td>1747</td>\n",
       "    </tr>\n",
       "    <tr>\n",
       "      <th>398988</th>\n",
       "      <td>188781</td>\n",
       "      <td>21739</td>\n",
       "      <td>357</td>\n",
       "    </tr>\n",
       "    <tr>\n",
       "      <th>3721238</th>\n",
       "      <td>1737767</td>\n",
       "      <td>50820</td>\n",
       "      <td>533</td>\n",
       "    </tr>\n",
       "    <tr>\n",
       "      <th>3219110</th>\n",
       "      <td>1505363</td>\n",
       "      <td>251850</td>\n",
       "      <td>536</td>\n",
       "    </tr>\n",
       "    <tr>\n",
       "      <th>3657803</th>\n",
       "      <td>1708352</td>\n",
       "      <td>110219</td>\n",
       "      <td>62963</td>\n",
       "    </tr>\n",
       "  </tbody>\n",
       "</table>\n",
       "</div>"
      ],
      "text/plain": [
       "          userID  installTime  appID\n",
       "5477413  2558286       151904    771\n",
       "3970355  1852882       100154    594\n",
       "4906990  2289549       260203   3389\n",
       "1302988   613269       100048    369\n",
       "3609685  1685651       111800   1183\n",
       "3254719  1521654       111508    582\n",
       "3228786  1509761       262104    806\n",
       "2313624  1084790       221741    536\n",
       "2299587  1078264        11421    698\n",
       "5266994  2457525        12227  13986\n",
       "1293541   609078        21203    582\n",
       "5628857  2629640        22030   1341\n",
       "656162    311108       242052    595\n",
       "5097053  2379239        51853   1503\n",
       "2242674  1051475       121948   3603\n",
       "4708880  2196621       171516   1747\n",
       "398988    188781        21739    357\n",
       "3721238  1737767        50820    533\n",
       "3219110  1505363       251850    536\n",
       "3657803  1708352       110219  62963"
      ]
     },
     "execution_count": 201,
     "metadata": {},
     "output_type": "execute_result"
    }
   ],
   "source": [
    "df_user_appactions.sample(20)"
   ]
  },
  {
   "cell_type": "code",
   "execution_count": 202,
   "metadata": {
    "collapsed": false
   },
   "outputs": [
    {
     "data": {
      "text/html": [
       "<div>\n",
       "<table border=\"1\" class=\"dataframe\">\n",
       "  <thead>\n",
       "    <tr style=\"text-align: right;\">\n",
       "      <th></th>\n",
       "      <th>installTime</th>\n",
       "    </tr>\n",
       "  </thead>\n",
       "  <tbody>\n",
       "    <tr>\n",
       "      <th>count</th>\n",
       "      <td>781112.000000</td>\n",
       "    </tr>\n",
       "    <tr>\n",
       "      <th>mean</th>\n",
       "      <td>7.685800</td>\n",
       "    </tr>\n",
       "    <tr>\n",
       "      <th>std</th>\n",
       "      <td>11.601835</td>\n",
       "    </tr>\n",
       "    <tr>\n",
       "      <th>min</th>\n",
       "      <td>1.000000</td>\n",
       "    </tr>\n",
       "    <tr>\n",
       "      <th>25%</th>\n",
       "      <td>1.000000</td>\n",
       "    </tr>\n",
       "    <tr>\n",
       "      <th>50%</th>\n",
       "      <td>4.000000</td>\n",
       "    </tr>\n",
       "    <tr>\n",
       "      <th>75%</th>\n",
       "      <td>10.000000</td>\n",
       "    </tr>\n",
       "    <tr>\n",
       "      <th>max</th>\n",
       "      <td>755.000000</td>\n",
       "    </tr>\n",
       "  </tbody>\n",
       "</table>\n",
       "</div>"
      ],
      "text/plain": [
       "         installTime\n",
       "count  781112.000000\n",
       "mean        7.685800\n",
       "std        11.601835\n",
       "min         1.000000\n",
       "25%         1.000000\n",
       "50%         4.000000\n",
       "75%        10.000000\n",
       "max       755.000000"
      ]
     },
     "execution_count": 202,
     "metadata": {},
     "output_type": "execute_result"
    }
   ],
   "source": [
    "df_user_appactions[[\"userID\",\"installTime\"]].groupby([\"userID\"]).count().describe()"
   ]
  },
  {
   "cell_type": "code",
   "execution_count": null,
   "metadata": {
    "collapsed": true
   },
   "outputs": [],
   "source": []
  },
  {
   "cell_type": "code",
   "execution_count": null,
   "metadata": {
    "collapsed": true
   },
   "outputs": [],
   "source": []
  },
  {
   "cell_type": "markdown",
   "metadata": {},
   "source": [
    "#### 2. 处理ad维度的feature"
   ]
  },
  {
   "cell_type": "markdown",
   "metadata": {
    "collapsed": true
   },
   "source": [
    "衡量add和app的宣传丰富程度"
   ]
  },
  {
   "cell_type": "code",
   "execution_count": 203,
   "metadata": {
    "collapsed": true
   },
   "outputs": [],
   "source": [
    "df_ad =pd.read_csv('dataset/pre/ad.csv')"
   ]
  },
  {
   "cell_type": "code",
   "execution_count": 204,
   "metadata": {
    "collapsed": false
   },
   "outputs": [
    {
     "data": {
      "text/html": [
       "<div>\n",
       "<table border=\"1\" class=\"dataframe\">\n",
       "  <thead>\n",
       "    <tr style=\"text-align: right;\">\n",
       "      <th></th>\n",
       "      <th>creativeID</th>\n",
       "      <th>adID</th>\n",
       "      <th>camgaignID</th>\n",
       "      <th>advertiserID</th>\n",
       "      <th>appID</th>\n",
       "      <th>appPlatform</th>\n",
       "    </tr>\n",
       "  </thead>\n",
       "  <tbody>\n",
       "    <tr>\n",
       "      <th>0</th>\n",
       "      <td>4079</td>\n",
       "      <td>2318</td>\n",
       "      <td>147</td>\n",
       "      <td>80</td>\n",
       "      <td>14</td>\n",
       "      <td>2</td>\n",
       "    </tr>\n",
       "    <tr>\n",
       "      <th>1</th>\n",
       "      <td>4565</td>\n",
       "      <td>3593</td>\n",
       "      <td>632</td>\n",
       "      <td>3</td>\n",
       "      <td>465</td>\n",
       "      <td>1</td>\n",
       "    </tr>\n",
       "    <tr>\n",
       "      <th>2</th>\n",
       "      <td>3170</td>\n",
       "      <td>1593</td>\n",
       "      <td>205</td>\n",
       "      <td>54</td>\n",
       "      <td>389</td>\n",
       "      <td>1</td>\n",
       "    </tr>\n",
       "    <tr>\n",
       "      <th>3</th>\n",
       "      <td>6566</td>\n",
       "      <td>2390</td>\n",
       "      <td>205</td>\n",
       "      <td>54</td>\n",
       "      <td>389</td>\n",
       "      <td>1</td>\n",
       "    </tr>\n",
       "    <tr>\n",
       "      <th>4</th>\n",
       "      <td>5187</td>\n",
       "      <td>411</td>\n",
       "      <td>564</td>\n",
       "      <td>3</td>\n",
       "      <td>465</td>\n",
       "      <td>1</td>\n",
       "    </tr>\n",
       "  </tbody>\n",
       "</table>\n",
       "</div>"
      ],
      "text/plain": [
       "   creativeID  adID  camgaignID  advertiserID  appID  appPlatform\n",
       "0        4079  2318         147            80     14            2\n",
       "1        4565  3593         632             3    465            1\n",
       "2        3170  1593         205            54    389            1\n",
       "3        6566  2390         205            54    389            1\n",
       "4        5187   411         564             3    465            1"
      ]
     },
     "execution_count": 204,
     "metadata": {},
     "output_type": "execute_result"
    }
   ],
   "source": [
    "df_ad.head()"
   ]
  },
  {
   "cell_type": "code",
   "execution_count": 205,
   "metadata": {
    "collapsed": false
   },
   "outputs": [
    {
     "data": {
      "text/html": [
       "<div>\n",
       "<table border=\"1\" class=\"dataframe\">\n",
       "  <thead>\n",
       "    <tr style=\"text-align: right;\">\n",
       "      <th></th>\n",
       "      <th>creativeID</th>\n",
       "      <th>adID</th>\n",
       "      <th>camgaignID</th>\n",
       "      <th>advertiserID</th>\n",
       "      <th>appID</th>\n",
       "      <th>appPlatform</th>\n",
       "    </tr>\n",
       "  </thead>\n",
       "  <tbody>\n",
       "    <tr>\n",
       "      <th>count</th>\n",
       "      <td>6582.000000</td>\n",
       "      <td>6582.000000</td>\n",
       "      <td>6582.000000</td>\n",
       "      <td>6582.000000</td>\n",
       "      <td>6582.000000</td>\n",
       "      <td>6582.000000</td>\n",
       "    </tr>\n",
       "    <tr>\n",
       "      <th>mean</th>\n",
       "      <td>3291.500000</td>\n",
       "      <td>1786.341689</td>\n",
       "      <td>313.397144</td>\n",
       "      <td>44.381191</td>\n",
       "      <td>310.805682</td>\n",
       "      <td>1.448952</td>\n",
       "    </tr>\n",
       "    <tr>\n",
       "      <th>std</th>\n",
       "      <td>1900.204068</td>\n",
       "      <td>1045.890729</td>\n",
       "      <td>210.636055</td>\n",
       "      <td>24.091342</td>\n",
       "      <td>125.577377</td>\n",
       "      <td>0.497425</td>\n",
       "    </tr>\n",
       "    <tr>\n",
       "      <th>min</th>\n",
       "      <td>1.000000</td>\n",
       "      <td>1.000000</td>\n",
       "      <td>1.000000</td>\n",
       "      <td>1.000000</td>\n",
       "      <td>14.000000</td>\n",
       "      <td>1.000000</td>\n",
       "    </tr>\n",
       "    <tr>\n",
       "      <th>25%</th>\n",
       "      <td>1646.250000</td>\n",
       "      <td>882.250000</td>\n",
       "      <td>131.000000</td>\n",
       "      <td>26.000000</td>\n",
       "      <td>205.000000</td>\n",
       "      <td>1.000000</td>\n",
       "    </tr>\n",
       "    <tr>\n",
       "      <th>50%</th>\n",
       "      <td>3291.500000</td>\n",
       "      <td>1771.000000</td>\n",
       "      <td>274.000000</td>\n",
       "      <td>54.000000</td>\n",
       "      <td>389.000000</td>\n",
       "      <td>1.000000</td>\n",
       "    </tr>\n",
       "    <tr>\n",
       "      <th>75%</th>\n",
       "      <td>4936.750000</td>\n",
       "      <td>2698.750000</td>\n",
       "      <td>512.000000</td>\n",
       "      <td>57.000000</td>\n",
       "      <td>421.000000</td>\n",
       "      <td>2.000000</td>\n",
       "    </tr>\n",
       "    <tr>\n",
       "      <th>max</th>\n",
       "      <td>6582.000000</td>\n",
       "      <td>3616.000000</td>\n",
       "      <td>720.000000</td>\n",
       "      <td>91.000000</td>\n",
       "      <td>472.000000</td>\n",
       "      <td>2.000000</td>\n",
       "    </tr>\n",
       "  </tbody>\n",
       "</table>\n",
       "</div>"
      ],
      "text/plain": [
       "        creativeID         adID   camgaignID  advertiserID        appID  \\\n",
       "count  6582.000000  6582.000000  6582.000000   6582.000000  6582.000000   \n",
       "mean   3291.500000  1786.341689   313.397144     44.381191   310.805682   \n",
       "std    1900.204068  1045.890729   210.636055     24.091342   125.577377   \n",
       "min       1.000000     1.000000     1.000000      1.000000    14.000000   \n",
       "25%    1646.250000   882.250000   131.000000     26.000000   205.000000   \n",
       "50%    3291.500000  1771.000000   274.000000     54.000000   389.000000   \n",
       "75%    4936.750000  2698.750000   512.000000     57.000000   421.000000   \n",
       "max    6582.000000  3616.000000   720.000000     91.000000   472.000000   \n",
       "\n",
       "       appPlatform  \n",
       "count  6582.000000  \n",
       "mean      1.448952  \n",
       "std       0.497425  \n",
       "min       1.000000  \n",
       "25%       1.000000  \n",
       "50%       1.000000  \n",
       "75%       2.000000  \n",
       "max       2.000000  "
      ]
     },
     "execution_count": 205,
     "metadata": {},
     "output_type": "execute_result"
    }
   ],
   "source": [
    "df_ad.describe()"
   ]
  },
  {
   "cell_type": "markdown",
   "metadata": {},
   "source": [
    "2.1 有多少素材存在于同一个ad"
   ]
  },
  {
   "cell_type": "code",
   "execution_count": 206,
   "metadata": {
    "collapsed": false
   },
   "outputs": [],
   "source": [
    "df_creaUnderAd=pd.DataFrame({\"NumOfCrea_ad\" : df_ad[[\"creativeID\",\"adID\"]].groupby([\"adID\"]).size()}).reset_index()"
   ]
  },
  {
   "cell_type": "code",
   "execution_count": 207,
   "metadata": {
    "collapsed": false
   },
   "outputs": [
    {
     "data": {
      "text/html": [
       "<div>\n",
       "<table border=\"1\" class=\"dataframe\">\n",
       "  <thead>\n",
       "    <tr style=\"text-align: right;\">\n",
       "      <th></th>\n",
       "      <th>adID</th>\n",
       "      <th>NumOfCrea_ad</th>\n",
       "    </tr>\n",
       "  </thead>\n",
       "  <tbody>\n",
       "    <tr>\n",
       "      <th>0</th>\n",
       "      <td>1</td>\n",
       "      <td>3</td>\n",
       "    </tr>\n",
       "    <tr>\n",
       "      <th>1</th>\n",
       "      <td>2</td>\n",
       "      <td>3</td>\n",
       "    </tr>\n",
       "    <tr>\n",
       "      <th>2</th>\n",
       "      <td>3</td>\n",
       "      <td>2</td>\n",
       "    </tr>\n",
       "    <tr>\n",
       "      <th>3</th>\n",
       "      <td>4</td>\n",
       "      <td>1</td>\n",
       "    </tr>\n",
       "    <tr>\n",
       "      <th>4</th>\n",
       "      <td>5</td>\n",
       "      <td>1</td>\n",
       "    </tr>\n",
       "  </tbody>\n",
       "</table>\n",
       "</div>"
      ],
      "text/plain": [
       "   adID  NumOfCrea_ad\n",
       "0     1             3\n",
       "1     2             3\n",
       "2     3             2\n",
       "3     4             1\n",
       "4     5             1"
      ]
     },
     "execution_count": 207,
     "metadata": {},
     "output_type": "execute_result"
    }
   ],
   "source": [
    "df_creaUnderAd.head()"
   ]
  },
  {
   "cell_type": "markdown",
   "metadata": {},
   "source": [
    "2.2 有多少素材存在于同一个广告商"
   ]
  },
  {
   "cell_type": "code",
   "execution_count": 208,
   "metadata": {
    "collapsed": false
   },
   "outputs": [],
   "source": [
    "df_creaUnderAdvertiser=pd.DataFrame({\"NumOfCrea_advertiser\": df_ad[[\"creativeID\",\"advertiserID\"]].groupby([\"advertiserID\"]).size()}).reset_index()"
   ]
  },
  {
   "cell_type": "code",
   "execution_count": 209,
   "metadata": {
    "collapsed": false
   },
   "outputs": [
    {
     "data": {
      "text/html": [
       "<div>\n",
       "<table border=\"1\" class=\"dataframe\">\n",
       "  <thead>\n",
       "    <tr style=\"text-align: right;\">\n",
       "      <th></th>\n",
       "      <th>advertiserID</th>\n",
       "      <th>NumOfCrea_advertiser</th>\n",
       "    </tr>\n",
       "  </thead>\n",
       "  <tbody>\n",
       "    <tr>\n",
       "      <th>0</th>\n",
       "      <td>1</td>\n",
       "      <td>5</td>\n",
       "    </tr>\n",
       "    <tr>\n",
       "      <th>1</th>\n",
       "      <td>2</td>\n",
       "      <td>78</td>\n",
       "    </tr>\n",
       "    <tr>\n",
       "      <th>2</th>\n",
       "      <td>3</td>\n",
       "      <td>56</td>\n",
       "    </tr>\n",
       "    <tr>\n",
       "      <th>3</th>\n",
       "      <td>4</td>\n",
       "      <td>4</td>\n",
       "    </tr>\n",
       "    <tr>\n",
       "      <th>4</th>\n",
       "      <td>5</td>\n",
       "      <td>1</td>\n",
       "    </tr>\n",
       "  </tbody>\n",
       "</table>\n",
       "</div>"
      ],
      "text/plain": [
       "   advertiserID  NumOfCrea_advertiser\n",
       "0             1                     5\n",
       "1             2                    78\n",
       "2             3                    56\n",
       "3             4                     4\n",
       "4             5                     1"
      ]
     },
     "execution_count": 209,
     "metadata": {},
     "output_type": "execute_result"
    }
   ],
   "source": [
    "df_creaUnderAdvertiser.head()"
   ]
  },
  {
   "cell_type": "markdown",
   "metadata": {},
   "source": [
    "2.3 有多少素材存在于同一个app下面"
   ]
  },
  {
   "cell_type": "code",
   "execution_count": 210,
   "metadata": {
    "collapsed": false
   },
   "outputs": [],
   "source": [
    "df_creaUnderApp=pd.DataFrame({\"NumOfCrea_app\": df_ad[[\"creativeID\",\"appID\"]].groupby([\"appID\"]).size()}).reset_index()"
   ]
  },
  {
   "cell_type": "code",
   "execution_count": 211,
   "metadata": {
    "collapsed": false
   },
   "outputs": [
    {
     "data": {
      "text/html": [
       "<div>\n",
       "<table border=\"1\" class=\"dataframe\">\n",
       "  <thead>\n",
       "    <tr style=\"text-align: right;\">\n",
       "      <th></th>\n",
       "      <th>appID</th>\n",
       "      <th>NumOfCrea_app</th>\n",
       "    </tr>\n",
       "  </thead>\n",
       "  <tbody>\n",
       "    <tr>\n",
       "      <th>0</th>\n",
       "      <td>14</td>\n",
       "      <td>191</td>\n",
       "    </tr>\n",
       "    <tr>\n",
       "      <th>1</th>\n",
       "      <td>25</td>\n",
       "      <td>10</td>\n",
       "    </tr>\n",
       "    <tr>\n",
       "      <th>2</th>\n",
       "      <td>68</td>\n",
       "      <td>15</td>\n",
       "    </tr>\n",
       "    <tr>\n",
       "      <th>3</th>\n",
       "      <td>75</td>\n",
       "      <td>11</td>\n",
       "    </tr>\n",
       "    <tr>\n",
       "      <th>4</th>\n",
       "      <td>83</td>\n",
       "      <td>6</td>\n",
       "    </tr>\n",
       "  </tbody>\n",
       "</table>\n",
       "</div>"
      ],
      "text/plain": [
       "   appID  NumOfCrea_app\n",
       "0     14            191\n",
       "1     25             10\n",
       "2     68             15\n",
       "3     75             11\n",
       "4     83              6"
      ]
     },
     "execution_count": 211,
     "metadata": {},
     "output_type": "execute_result"
    }
   ],
   "source": [
    "df_creaUnderApp.head()"
   ]
  },
  {
   "cell_type": "markdown",
   "metadata": {},
   "source": [
    "2.4 有多少素材存在于同一个推广计划下面"
   ]
  },
  {
   "cell_type": "code",
   "execution_count": 212,
   "metadata": {
    "collapsed": true
   },
   "outputs": [],
   "source": [
    "df_creaUnderCam=pd.DataFrame({\"NumOfCrea_Cam\": df_ad[[\"creativeID\",\"camgaignID\"]].groupby([\"camgaignID\"]).size()}).reset_index()"
   ]
  },
  {
   "cell_type": "code",
   "execution_count": 213,
   "metadata": {
    "collapsed": false
   },
   "outputs": [
    {
     "data": {
      "text/html": [
       "<div>\n",
       "<table border=\"1\" class=\"dataframe\">\n",
       "  <thead>\n",
       "    <tr style=\"text-align: right;\">\n",
       "      <th></th>\n",
       "      <th>camgaignID</th>\n",
       "      <th>NumOfCrea_Cam</th>\n",
       "    </tr>\n",
       "  </thead>\n",
       "  <tbody>\n",
       "    <tr>\n",
       "      <th>0</th>\n",
       "      <td>1</td>\n",
       "      <td>8</td>\n",
       "    </tr>\n",
       "    <tr>\n",
       "      <th>1</th>\n",
       "      <td>2</td>\n",
       "      <td>21</td>\n",
       "    </tr>\n",
       "    <tr>\n",
       "      <th>2</th>\n",
       "      <td>3</td>\n",
       "      <td>1</td>\n",
       "    </tr>\n",
       "    <tr>\n",
       "      <th>3</th>\n",
       "      <td>4</td>\n",
       "      <td>1</td>\n",
       "    </tr>\n",
       "    <tr>\n",
       "      <th>4</th>\n",
       "      <td>5</td>\n",
       "      <td>4</td>\n",
       "    </tr>\n",
       "  </tbody>\n",
       "</table>\n",
       "</div>"
      ],
      "text/plain": [
       "   camgaignID  NumOfCrea_Cam\n",
       "0           1              8\n",
       "1           2             21\n",
       "2           3              1\n",
       "3           4              1\n",
       "4           5              4"
      ]
     },
     "execution_count": 213,
     "metadata": {},
     "output_type": "execute_result"
    }
   ],
   "source": [
    "df_creaUnderCam.head()"
   ]
  },
  {
   "cell_type": "markdown",
   "metadata": {},
   "source": [
    "　3。 处理user相关的feature"
   ]
  },
  {
   "cell_type": "markdown",
   "metadata": {},
   "source": [
    "３.１　处理age"
   ]
  },
  {
   "cell_type": "code",
   "execution_count": 214,
   "metadata": {
    "collapsed": true
   },
   "outputs": [],
   "source": [
    "df_train = pd.read_csv('dataset/pre/train.csv')"
   ]
  },
  {
   "cell_type": "code",
   "execution_count": 215,
   "metadata": {
    "collapsed": true
   },
   "outputs": [],
   "source": [
    "df_user = pd.read_csv('dataset/pre/user.csv')"
   ]
  },
  {
   "cell_type": "code",
   "execution_count": 216,
   "metadata": {
    "collapsed": false
   },
   "outputs": [],
   "source": [
    "ageGroup_forMerge = pd.DataFrame(df_user.age.unique(),columns=[['age']])"
   ]
  },
  {
   "cell_type": "code",
   "execution_count": 217,
   "metadata": {
    "collapsed": true
   },
   "outputs": [],
   "source": [
    "ageGroup_forMerge['ageGroup'] = 0\n",
    "for i in range(len(ageGroup_forMerge)):\n",
    "    if 1 <= ageGroup_forMerge.age[i] < 10:\n",
    "        ageGroup_forMerge.set_value(i,'ageGroup', 1)\n",
    "    elif 10 <= ageGroup_forMerge.age[i] < 15:\n",
    "        ageGroup_forMerge.set_value(i,'ageGroup', 2)\n",
    "    elif 15 <= ageGroup_forMerge.age[i] < 20:\n",
    "        ageGroup_forMerge.set_value(i,'ageGroup', 3)\n",
    "    elif 20 <= ageGroup_forMerge.age[i] < 25:\n",
    "        ageGroup_forMerge.set_value(i,'ageGroup', 4)\n",
    "    elif 25 <= ageGroup_forMerge.age[i] < 30:\n",
    "        ageGroup_forMerge.set_value(i,'ageGroup', 5)\n",
    "    elif 30 <= ageGroup_forMerge.age[i] < 35:\n",
    "        ageGroup_forMerge.set_value(i,'ageGroup', 6)\n",
    "    elif 35 <= ageGroup_forMerge.age[i] < 40:\n",
    "        ageGroup_forMerge.set_value(i,'ageGroup', 7)\n",
    "    elif 40 <= ageGroup_forMerge.age[i] < 50:\n",
    "        ageGroup_forMerge.set_value(i,'ageGroup', 8)\n",
    "    elif 50 <= ageGroup_forMerge.age[i] < 200:\n",
    "        ageGroup_forMerge.set_value(i,'ageGroup', 9)"
   ]
  },
  {
   "cell_type": "code",
   "execution_count": 218,
   "metadata": {
    "collapsed": false
   },
   "outputs": [
    {
     "data": {
      "text/html": [
       "<div>\n",
       "<table border=\"1\" class=\"dataframe\">\n",
       "  <thead>\n",
       "    <tr style=\"text-align: right;\">\n",
       "      <th></th>\n",
       "      <th>age</th>\n",
       "      <th>ageGroup</th>\n",
       "    </tr>\n",
       "  </thead>\n",
       "  <tbody>\n",
       "    <tr>\n",
       "      <th>30</th>\n",
       "      <td>7</td>\n",
       "      <td>1</td>\n",
       "    </tr>\n",
       "    <tr>\n",
       "      <th>8</th>\n",
       "      <td>13</td>\n",
       "      <td>2</td>\n",
       "    </tr>\n",
       "    <tr>\n",
       "      <th>56</th>\n",
       "      <td>55</td>\n",
       "      <td>9</td>\n",
       "    </tr>\n",
       "    <tr>\n",
       "      <th>60</th>\n",
       "      <td>61</td>\n",
       "      <td>9</td>\n",
       "    </tr>\n",
       "    <tr>\n",
       "      <th>53</th>\n",
       "      <td>49</td>\n",
       "      <td>8</td>\n",
       "    </tr>\n",
       "  </tbody>\n",
       "</table>\n",
       "</div>"
      ],
      "text/plain": [
       "    age  ageGroup\n",
       "30    7         1\n",
       "8    13         2\n",
       "56   55         9\n",
       "60   61         9\n",
       "53   49         8"
      ]
     },
     "execution_count": 218,
     "metadata": {},
     "output_type": "execute_result"
    }
   ],
   "source": [
    "ageGroup_forMerge.sample(5)"
   ]
  },
  {
   "cell_type": "markdown",
   "metadata": {},
   "source": [
    "３.２　处理residence"
   ]
  },
  {
   "cell_type": "code",
   "execution_count": 219,
   "metadata": {
    "collapsed": true
   },
   "outputs": [],
   "source": [
    "# residence to residenceGroup\n",
    "tmp = df_user.residence.value_counts()\n",
    "tmp = pd.DataFrame(df_user.residence.value_counts())\n",
    "tmp.columns = [['num']]\n",
    "tmp['residence'] = tmp.index\n",
    "tmp['residenceGroup'] = 0\n",
    "tmp.index = range(0,len(tmp))\n",
    "\n",
    "for i in range(len(tmp)):\n",
    "    if 1 <= tmp.num[i] < 1640:\n",
    "        tmp.set_value(i,'residenceGroup',1)\n",
    "    elif 1640 <= tmp.num[i] < 4676:\n",
    "        tmp.set_value(i,'residenceGroup',2)\n",
    "    elif 4676 <= tmp.num[i] < 8199:\n",
    "        tmp.set_value(i,'residenceGroup',3)\n",
    "    elif 8199 <= tmp.num[i] < 200000:\n",
    "        tmp.set_value(i,'residenceGroup',4)\n",
    "\n",
    "tmp = tmp.drop('num',1)\n"
   ]
  },
  {
   "cell_type": "code",
   "execution_count": 220,
   "metadata": {
    "collapsed": false
   },
   "outputs": [
    {
     "data": {
      "text/html": [
       "<div>\n",
       "<table border=\"1\" class=\"dataframe\">\n",
       "  <thead>\n",
       "    <tr style=\"text-align: right;\">\n",
       "      <th></th>\n",
       "      <th>residence</th>\n",
       "      <th>residenceGroup</th>\n",
       "    </tr>\n",
       "  </thead>\n",
       "  <tbody>\n",
       "    <tr>\n",
       "      <th>156</th>\n",
       "      <td>1704</td>\n",
       "      <td>3</td>\n",
       "    </tr>\n",
       "    <tr>\n",
       "      <th>96</th>\n",
       "      <td>1302</td>\n",
       "      <td>4</td>\n",
       "    </tr>\n",
       "    <tr>\n",
       "      <th>91</th>\n",
       "      <td>402</td>\n",
       "      <td>4</td>\n",
       "    </tr>\n",
       "    <tr>\n",
       "      <th>288</th>\n",
       "      <td>1513</td>\n",
       "      <td>2</td>\n",
       "    </tr>\n",
       "    <tr>\n",
       "      <th>131</th>\n",
       "      <td>2205</td>\n",
       "      <td>3</td>\n",
       "    </tr>\n",
       "  </tbody>\n",
       "</table>\n",
       "</div>"
      ],
      "text/plain": [
       "     residence  residenceGroup\n",
       "156       1704               3\n",
       "96        1302               4\n",
       "91         402               4\n",
       "288       1513               2\n",
       "131       2205               3"
      ]
     },
     "execution_count": 220,
     "metadata": {},
     "output_type": "execute_result"
    }
   ],
   "source": [
    "tmp.sample(5)"
   ]
  },
  {
   "cell_type": "markdown",
   "metadata": {},
   "source": [
    "### 4. 读取context table"
   ]
  },
  {
   "cell_type": "code",
   "execution_count": 221,
   "metadata": {
    "collapsed": true
   },
   "outputs": [],
   "source": [
    "df_position = pd.read_csv('dataset/pre/position.csv')"
   ]
  },
  {
   "cell_type": "markdown",
   "metadata": {},
   "source": [
    "#### 5. 准备工作\n",
    "\n",
    "5.1 合并所有相关的table到train里"
   ]
  },
  {
   "cell_type": "code",
   "execution_count": 222,
   "metadata": {
    "collapsed": false
   },
   "outputs": [],
   "source": [
    "#合并user相关，并处理age和residence\n",
    "df_all_train = pd.merge(df_train,df_user, how='left', on='userID')\n",
    "df_all_train  = pd.merge(df_all_train , ageGroup_forMerge, how='left', on='age')\n",
    "df_all_train  = df_all_train.drop('age',1)\n",
    "df_all_train = pd.merge(df_all_train, tmp, how='left', on='residence')\n",
    "df_all_train = df_all_train.drop('residence',1)\n",
    "\n",
    "#合并ad 以及相关feature  并remove 原始ID\n",
    "df_all_train = pd.merge(df_all_train, df_ad, how='left', on='creativeID')\n",
    "df_all_train = pd.merge(df_all_train, df_creaUnderAd, how='left', on='adID')\n",
    "df_all_train = pd.merge(df_all_train, df_creaUnderAdvertiser, how='left', on='advertiserID')\n",
    "df_all_train = pd.merge(df_all_train, df_creaUnderApp, how='left', on='appID')\n",
    "df_all_train = pd.merge(df_all_train, df_creaUnderCam, how='left', on='camgaignID')\n",
    "df_all_train = df_all_train.drop([\"adID\",\"advertiserID\",\"appID\",\"camgaignID\"],1)\n",
    "\n",
    "#合并用户app使用习惯相关table和feature\n",
    "df_all_train = pd.merge(df_all_train, df_appFeature, how='left', on='userID')\n",
    "\n",
    "#合并context到train里\n",
    "df_all_train = pd.merge(df_all_train, df_position, how='left', on='positionID')\n",
    "\n",
    "#最终删除所有无用feature\n",
    "df_all_train = df_all_train.drop([\"clickTime\",\"conversionTime\",\"hometown\",\"appPlatform\",\"creativeID\",\"userID\",\"positionID\"],1)"
   ]
  },
  {
   "cell_type": "code",
   "execution_count": 223,
   "metadata": {
    "collapsed": false
   },
   "outputs": [
    {
     "data": {
      "text/html": [
       "<div>\n",
       "<table border=\"1\" class=\"dataframe\">\n",
       "  <thead>\n",
       "    <tr style=\"text-align: right;\">\n",
       "      <th></th>\n",
       "      <th>label</th>\n",
       "      <th>connectionType</th>\n",
       "      <th>telecomsOperator</th>\n",
       "      <th>gender</th>\n",
       "      <th>education</th>\n",
       "      <th>marriageStatus</th>\n",
       "      <th>haveBaby</th>\n",
       "      <th>ageGroup</th>\n",
       "      <th>residenceGroup</th>\n",
       "      <th>NumOfCrea_ad</th>\n",
       "      <th>NumOfCrea_advertiser</th>\n",
       "      <th>NumOfCrea_app</th>\n",
       "      <th>NumOfCrea_Cam</th>\n",
       "      <th>appCategory</th>\n",
       "      <th>Max(number)</th>\n",
       "      <th>numOfApp</th>\n",
       "      <th>sitesetID</th>\n",
       "      <th>positionType</th>\n",
       "    </tr>\n",
       "  </thead>\n",
       "  <tbody>\n",
       "    <tr>\n",
       "      <th>2286083</th>\n",
       "      <td>0</td>\n",
       "      <td>1</td>\n",
       "      <td>2</td>\n",
       "      <td>1</td>\n",
       "      <td>2</td>\n",
       "      <td>0</td>\n",
       "      <td>0</td>\n",
       "      <td>1</td>\n",
       "      <td>4</td>\n",
       "      <td>1</td>\n",
       "      <td>160</td>\n",
       "      <td>713</td>\n",
       "      <td>1</td>\n",
       "      <td>NaN</td>\n",
       "      <td>NaN</td>\n",
       "      <td>NaN</td>\n",
       "      <td>1</td>\n",
       "      <td>0</td>\n",
       "    </tr>\n",
       "    <tr>\n",
       "      <th>2462501</th>\n",
       "      <td>0</td>\n",
       "      <td>1</td>\n",
       "      <td>1</td>\n",
       "      <td>1</td>\n",
       "      <td>5</td>\n",
       "      <td>1</td>\n",
       "      <td>0</td>\n",
       "      <td>4</td>\n",
       "      <td>2</td>\n",
       "      <td>4</td>\n",
       "      <td>308</td>\n",
       "      <td>763</td>\n",
       "      <td>54</td>\n",
       "      <td>NaN</td>\n",
       "      <td>NaN</td>\n",
       "      <td>NaN</td>\n",
       "      <td>0</td>\n",
       "      <td>1</td>\n",
       "    </tr>\n",
       "    <tr>\n",
       "      <th>3244922</th>\n",
       "      <td>0</td>\n",
       "      <td>1</td>\n",
       "      <td>1</td>\n",
       "      <td>2</td>\n",
       "      <td>1</td>\n",
       "      <td>1</td>\n",
       "      <td>0</td>\n",
       "      <td>3</td>\n",
       "      <td>2</td>\n",
       "      <td>1</td>\n",
       "      <td>35</td>\n",
       "      <td>35</td>\n",
       "      <td>12</td>\n",
       "      <td>503.0</td>\n",
       "      <td>10.0</td>\n",
       "      <td>84.0</td>\n",
       "      <td>1</td>\n",
       "      <td>0</td>\n",
       "    </tr>\n",
       "    <tr>\n",
       "      <th>882359</th>\n",
       "      <td>0</td>\n",
       "      <td>1</td>\n",
       "      <td>1</td>\n",
       "      <td>0</td>\n",
       "      <td>3</td>\n",
       "      <td>3</td>\n",
       "      <td>0</td>\n",
       "      <td>0</td>\n",
       "      <td>2</td>\n",
       "      <td>1</td>\n",
       "      <td>35</td>\n",
       "      <td>35</td>\n",
       "      <td>12</td>\n",
       "      <td>301.0</td>\n",
       "      <td>5.0</td>\n",
       "      <td>22.0</td>\n",
       "      <td>1</td>\n",
       "      <td>0</td>\n",
       "    </tr>\n",
       "    <tr>\n",
       "      <th>544883</th>\n",
       "      <td>0</td>\n",
       "      <td>1</td>\n",
       "      <td>1</td>\n",
       "      <td>1</td>\n",
       "      <td>2</td>\n",
       "      <td>3</td>\n",
       "      <td>0</td>\n",
       "      <td>4</td>\n",
       "      <td>4</td>\n",
       "      <td>1</td>\n",
       "      <td>160</td>\n",
       "      <td>713</td>\n",
       "      <td>1</td>\n",
       "      <td>201.0</td>\n",
       "      <td>6.0</td>\n",
       "      <td>55.0</td>\n",
       "      <td>1</td>\n",
       "      <td>0</td>\n",
       "    </tr>\n",
       "  </tbody>\n",
       "</table>\n",
       "</div>"
      ],
      "text/plain": [
       "         label  connectionType  telecomsOperator  gender  education  \\\n",
       "2286083      0               1                 2       1          2   \n",
       "2462501      0               1                 1       1          5   \n",
       "3244922      0               1                 1       2          1   \n",
       "882359       0               1                 1       0          3   \n",
       "544883       0               1                 1       1          2   \n",
       "\n",
       "         marriageStatus  haveBaby  ageGroup  residenceGroup  NumOfCrea_ad  \\\n",
       "2286083               0         0         1               4             1   \n",
       "2462501               1         0         4               2             4   \n",
       "3244922               1         0         3               2             1   \n",
       "882359                3         0         0               2             1   \n",
       "544883                3         0         4               4             1   \n",
       "\n",
       "         NumOfCrea_advertiser  NumOfCrea_app  NumOfCrea_Cam  appCategory  \\\n",
       "2286083                   160            713              1          NaN   \n",
       "2462501                   308            763             54          NaN   \n",
       "3244922                    35             35             12        503.0   \n",
       "882359                     35             35             12        301.0   \n",
       "544883                    160            713              1        201.0   \n",
       "\n",
       "         Max(number)  numOfApp  sitesetID  positionType  \n",
       "2286083          NaN       NaN          1             0  \n",
       "2462501          NaN       NaN          0             1  \n",
       "3244922         10.0      84.0          1             0  \n",
       "882359           5.0      22.0          1             0  \n",
       "544883           6.0      55.0          1             0  "
      ]
     },
     "execution_count": 223,
     "metadata": {},
     "output_type": "execute_result"
    }
   ],
   "source": [
    "df_all_train.sample(5)"
   ]
  },
  {
   "cell_type": "code",
   "execution_count": 224,
   "metadata": {
    "collapsed": false
   },
   "outputs": [
    {
     "data": {
      "text/plain": [
       "Index(['label', 'connectionType', 'telecomsOperator', 'gender', 'education',\n",
       "       'marriageStatus', 'haveBaby', 'ageGroup', 'residenceGroup',\n",
       "       'NumOfCrea_ad', 'NumOfCrea_advertiser', 'NumOfCrea_app',\n",
       "       'NumOfCrea_Cam', 'appCategory', 'Max(number)', 'numOfApp', 'sitesetID',\n",
       "       'positionType'],\n",
       "      dtype='object')"
      ]
     },
     "execution_count": 224,
     "metadata": {},
     "output_type": "execute_result"
    }
   ],
   "source": [
    "df_all_train.columns"
   ]
  },
  {
   "cell_type": "markdown",
   "metadata": {},
   "source": [
    "##### 5.2 用0代替所有的NaN"
   ]
  },
  {
   "cell_type": "code",
   "execution_count": 225,
   "metadata": {
    "collapsed": false
   },
   "outputs": [],
   "source": [
    "df_all_train=df_all_train.fillna(0)"
   ]
  },
  {
   "cell_type": "code",
   "execution_count": 231,
   "metadata": {
    "collapsed": false
   },
   "outputs": [
    {
     "data": {
      "text/html": [
       "<div>\n",
       "<table border=\"1\" class=\"dataframe\">\n",
       "  <thead>\n",
       "    <tr style=\"text-align: right;\">\n",
       "      <th></th>\n",
       "      <th>label</th>\n",
       "      <th>connectionType</th>\n",
       "      <th>telecomsOperator</th>\n",
       "      <th>gender</th>\n",
       "      <th>education</th>\n",
       "      <th>marriageStatus</th>\n",
       "      <th>haveBaby</th>\n",
       "      <th>ageGroup</th>\n",
       "      <th>residenceGroup</th>\n",
       "      <th>NumOfCrea_ad</th>\n",
       "      <th>NumOfCrea_advertiser</th>\n",
       "      <th>NumOfCrea_app</th>\n",
       "      <th>NumOfCrea_Cam</th>\n",
       "      <th>appCategory</th>\n",
       "      <th>Max(number)</th>\n",
       "      <th>numOfApp</th>\n",
       "      <th>sitesetID</th>\n",
       "      <th>positionType</th>\n",
       "    </tr>\n",
       "  </thead>\n",
       "  <tbody>\n",
       "    <tr>\n",
       "      <th>768685</th>\n",
       "      <td>0</td>\n",
       "      <td>2</td>\n",
       "      <td>1</td>\n",
       "      <td>2</td>\n",
       "      <td>4</td>\n",
       "      <td>1</td>\n",
       "      <td>0</td>\n",
       "      <td>3</td>\n",
       "      <td>4</td>\n",
       "      <td>4</td>\n",
       "      <td>56</td>\n",
       "      <td>56</td>\n",
       "      <td>4</td>\n",
       "      <td>301.0</td>\n",
       "      <td>4.0</td>\n",
       "      <td>38.0</td>\n",
       "      <td>0</td>\n",
       "      <td>1</td>\n",
       "    </tr>\n",
       "    <tr>\n",
       "      <th>3637003</th>\n",
       "      <td>0</td>\n",
       "      <td>1</td>\n",
       "      <td>2</td>\n",
       "      <td>2</td>\n",
       "      <td>0</td>\n",
       "      <td>1</td>\n",
       "      <td>0</td>\n",
       "      <td>3</td>\n",
       "      <td>2</td>\n",
       "      <td>1</td>\n",
       "      <td>193</td>\n",
       "      <td>193</td>\n",
       "      <td>4</td>\n",
       "      <td>0.0</td>\n",
       "      <td>0.0</td>\n",
       "      <td>0.0</td>\n",
       "      <td>0</td>\n",
       "      <td>2</td>\n",
       "    </tr>\n",
       "    <tr>\n",
       "      <th>562772</th>\n",
       "      <td>0</td>\n",
       "      <td>1</td>\n",
       "      <td>2</td>\n",
       "      <td>1</td>\n",
       "      <td>3</td>\n",
       "      <td>0</td>\n",
       "      <td>0</td>\n",
       "      <td>4</td>\n",
       "      <td>2</td>\n",
       "      <td>1</td>\n",
       "      <td>308</td>\n",
       "      <td>763</td>\n",
       "      <td>54</td>\n",
       "      <td>0.0</td>\n",
       "      <td>0.0</td>\n",
       "      <td>0.0</td>\n",
       "      <td>1</td>\n",
       "      <td>0</td>\n",
       "    </tr>\n",
       "    <tr>\n",
       "      <th>1041366</th>\n",
       "      <td>0</td>\n",
       "      <td>2</td>\n",
       "      <td>3</td>\n",
       "      <td>1</td>\n",
       "      <td>0</td>\n",
       "      <td>1</td>\n",
       "      <td>0</td>\n",
       "      <td>3</td>\n",
       "      <td>4</td>\n",
       "      <td>4</td>\n",
       "      <td>56</td>\n",
       "      <td>56</td>\n",
       "      <td>4</td>\n",
       "      <td>503.0</td>\n",
       "      <td>27.0</td>\n",
       "      <td>98.0</td>\n",
       "      <td>0</td>\n",
       "      <td>1</td>\n",
       "    </tr>\n",
       "    <tr>\n",
       "      <th>2583478</th>\n",
       "      <td>0</td>\n",
       "      <td>1</td>\n",
       "      <td>1</td>\n",
       "      <td>1</td>\n",
       "      <td>0</td>\n",
       "      <td>2</td>\n",
       "      <td>0</td>\n",
       "      <td>4</td>\n",
       "      <td>0</td>\n",
       "      <td>4</td>\n",
       "      <td>56</td>\n",
       "      <td>56</td>\n",
       "      <td>4</td>\n",
       "      <td>503.0</td>\n",
       "      <td>23.0</td>\n",
       "      <td>71.0</td>\n",
       "      <td>0</td>\n",
       "      <td>1</td>\n",
       "    </tr>\n",
       "  </tbody>\n",
       "</table>\n",
       "</div>"
      ],
      "text/plain": [
       "         label  connectionType  telecomsOperator  gender  education  \\\n",
       "768685       0               2                 1       2          4   \n",
       "3637003      0               1                 2       2          0   \n",
       "562772       0               1                 2       1          3   \n",
       "1041366      0               2                 3       1          0   \n",
       "2583478      0               1                 1       1          0   \n",
       "\n",
       "         marriageStatus  haveBaby  ageGroup  residenceGroup  NumOfCrea_ad  \\\n",
       "768685                1         0         3               4             4   \n",
       "3637003               1         0         3               2             1   \n",
       "562772                0         0         4               2             1   \n",
       "1041366               1         0         3               4             4   \n",
       "2583478               2         0         4               0             4   \n",
       "\n",
       "         NumOfCrea_advertiser  NumOfCrea_app  NumOfCrea_Cam  appCategory  \\\n",
       "768685                     56             56              4        301.0   \n",
       "3637003                   193            193              4          0.0   \n",
       "562772                    308            763             54          0.0   \n",
       "1041366                    56             56              4        503.0   \n",
       "2583478                    56             56              4        503.0   \n",
       "\n",
       "         Max(number)  numOfApp  sitesetID  positionType  \n",
       "768685           4.0      38.0          0             1  \n",
       "3637003          0.0       0.0          0             2  \n",
       "562772           0.0       0.0          1             0  \n",
       "1041366         27.0      98.0          0             1  \n",
       "2583478         23.0      71.0          0             1  "
      ]
     },
     "execution_count": 231,
     "metadata": {},
     "output_type": "execute_result"
    }
   ],
   "source": [
    "df_all_train.sample(5)"
   ]
  },
  {
   "cell_type": "markdown",
   "metadata": {},
   "source": [
    "##### 5.3 用one-hot encoding处理所有的nominal feature\n",
    "包括以下feature：\"connectionType\",\"telecomsOperator\",\"marriageStatus\",\"haveBaby\",\"residenceGroup\",\"appCategory\",\"sitesetID\",\"positionType\""
   ]
  },
  {
   "cell_type": "code",
   "execution_count": 259,
   "metadata": {
    "collapsed": true
   },
   "outputs": [],
   "source": [
    "columns=[\"connectionType\",\"telecomsOperator\",\"marriageStatus\",\"haveBaby\",\"residenceGroup\",\"appCategory\",\"sitesetID\",\"positionType\"]\n",
    "df_all_train"
   ]
  },
  {
   "cell_type": "code",
   "execution_count": 260,
   "metadata": {
    "collapsed": false
   },
   "outputs": [],
   "source": [
    "from sklearn.preprocessing import OneHotEncoder\n",
    "enc=OneHotEncoder(sparse=False)"
   ]
  },
  {
   "cell_type": "code",
   "execution_count": 278,
   "metadata": {
    "collapsed": true
   },
   "outputs": [],
   "source": [
    "df_all_train_1=df_all_train.drop([\"connectionType\",\"telecomsOperator\",\"marriageStatus\",\"haveBaby\",\"residenceGroup\",\"appCategory\",\"sitesetID\",\"positionType\"],1)"
   ]
  },
  {
   "cell_type": "code",
   "execution_count": 279,
   "metadata": {
    "collapsed": false
   },
   "outputs": [],
   "source": [
    "for col in columns:\n",
    "    enc.fit(df_all_train[[col]])\n",
    "    temp=enc.transform(df_all_train[[col]])\n",
    "    temp=pd.DataFrame(temp,columns=[(col+\"_\"+str(i)) for i in df_all_train[col]\n",
    "                                    .value_counts().index])\n",
    "    temp=temp.set_index(df_all_train.index.values)\n",
    "    df_all_train_1=pd.concat([df_all_train_1,temp],axis=1)\n"
   ]
  },
  {
   "cell_type": "code",
   "execution_count": 280,
   "metadata": {
    "collapsed": false
   },
   "outputs": [
    {
     "data": {
      "text/plain": [
       "Index(['label', 'gender', 'education', 'ageGroup', 'NumOfCrea_ad',\n",
       "       'NumOfCrea_advertiser', 'NumOfCrea_app', 'NumOfCrea_Cam', 'Max(number)',\n",
       "       'numOfApp', 'connectionType_1', 'connectionType_2', 'connectionType_3',\n",
       "       'connectionType_0', 'connectionType_4', 'telecomsOperator_1',\n",
       "       'telecomsOperator_3', 'telecomsOperator_2', 'telecomsOperator_0',\n",
       "       'marriageStatus_0', 'marriageStatus_2', 'marriageStatus_1',\n",
       "       'marriageStatus_3', 'haveBaby_0', 'haveBaby_1', 'haveBaby_2',\n",
       "       'haveBaby_3', 'haveBaby_4', 'haveBaby_5', 'haveBaby_6',\n",
       "       'residenceGroup_4', 'residenceGroup_3', 'residenceGroup_2',\n",
       "       'residenceGroup_0', 'residenceGroup_1', 'appCategory_0.0',\n",
       "       'appCategory_503.0', 'appCategory_301.0', 'appCategory_201.0',\n",
       "       'appCategory_407.0', 'appCategory_106.0', 'appCategory_402.0',\n",
       "       'appCategory_209.0', 'appCategory_203.0', 'appCategory_405.0',\n",
       "       'appCategory_401.0', 'appCategory_104.0', 'appCategory_105.0',\n",
       "       'appCategory_108.0', 'appCategory_408.0', 'appCategory_403.0',\n",
       "       'appCategory_109.0', 'appCategory_103.0', 'appCategory_211.0',\n",
       "       'appCategory_409.0', 'appCategory_303.0', 'appCategory_210.0',\n",
       "       'appCategory_406.0', 'appCategory_110.0', 'appCategory_2.0',\n",
       "       'appCategory_204.0', 'sitesetID_0', 'sitesetID_1', 'sitesetID_2',\n",
       "       'positionType_1', 'positionType_0', 'positionType_2', 'positionType_3',\n",
       "       'positionType_4', 'positionType_5'],\n",
       "      dtype='object')"
      ]
     },
     "execution_count": 280,
     "metadata": {},
     "output_type": "execute_result"
    }
   ],
   "source": [
    "df_all_train_1.columns"
   ]
  },
  {
   "cell_type": "code",
   "execution_count": 281,
   "metadata": {
    "collapsed": false
   },
   "outputs": [
    {
     "data": {
      "text/html": [
       "<div>\n",
       "<table border=\"1\" class=\"dataframe\">\n",
       "  <thead>\n",
       "    <tr style=\"text-align: right;\">\n",
       "      <th></th>\n",
       "      <th>label</th>\n",
       "      <th>gender</th>\n",
       "      <th>education</th>\n",
       "      <th>ageGroup</th>\n",
       "      <th>NumOfCrea_ad</th>\n",
       "      <th>NumOfCrea_advertiser</th>\n",
       "      <th>NumOfCrea_app</th>\n",
       "      <th>NumOfCrea_Cam</th>\n",
       "      <th>Max(number)</th>\n",
       "      <th>numOfApp</th>\n",
       "      <th>...</th>\n",
       "      <th>appCategory_204.0</th>\n",
       "      <th>sitesetID_0</th>\n",
       "      <th>sitesetID_1</th>\n",
       "      <th>sitesetID_2</th>\n",
       "      <th>positionType_1</th>\n",
       "      <th>positionType_0</th>\n",
       "      <th>positionType_2</th>\n",
       "      <th>positionType_3</th>\n",
       "      <th>positionType_4</th>\n",
       "      <th>positionType_5</th>\n",
       "    </tr>\n",
       "  </thead>\n",
       "  <tbody>\n",
       "    <tr>\n",
       "      <th>1728107</th>\n",
       "      <td>0</td>\n",
       "      <td>1</td>\n",
       "      <td>1</td>\n",
       "      <td>5</td>\n",
       "      <td>1</td>\n",
       "      <td>160</td>\n",
       "      <td>713</td>\n",
       "      <td>1</td>\n",
       "      <td>10.0</td>\n",
       "      <td>67.0</td>\n",
       "      <td>...</td>\n",
       "      <td>0.0</td>\n",
       "      <td>0.0</td>\n",
       "      <td>1.0</td>\n",
       "      <td>0.0</td>\n",
       "      <td>1.0</td>\n",
       "      <td>0.0</td>\n",
       "      <td>0.0</td>\n",
       "      <td>0.0</td>\n",
       "      <td>0.0</td>\n",
       "      <td>0.0</td>\n",
       "    </tr>\n",
       "    <tr>\n",
       "      <th>2648357</th>\n",
       "      <td>0</td>\n",
       "      <td>2</td>\n",
       "      <td>0</td>\n",
       "      <td>4</td>\n",
       "      <td>4</td>\n",
       "      <td>56</td>\n",
       "      <td>56</td>\n",
       "      <td>4</td>\n",
       "      <td>8.0</td>\n",
       "      <td>62.0</td>\n",
       "      <td>...</td>\n",
       "      <td>1.0</td>\n",
       "      <td>1.0</td>\n",
       "      <td>0.0</td>\n",
       "      <td>0.0</td>\n",
       "      <td>0.0</td>\n",
       "      <td>1.0</td>\n",
       "      <td>0.0</td>\n",
       "      <td>0.0</td>\n",
       "      <td>0.0</td>\n",
       "      <td>0.0</td>\n",
       "    </tr>\n",
       "    <tr>\n",
       "      <th>463467</th>\n",
       "      <td>0</td>\n",
       "      <td>2</td>\n",
       "      <td>3</td>\n",
       "      <td>4</td>\n",
       "      <td>1</td>\n",
       "      <td>4</td>\n",
       "      <td>4</td>\n",
       "      <td>1</td>\n",
       "      <td>0.0</td>\n",
       "      <td>0.0</td>\n",
       "      <td>...</td>\n",
       "      <td>0.0</td>\n",
       "      <td>0.0</td>\n",
       "      <td>1.0</td>\n",
       "      <td>0.0</td>\n",
       "      <td>1.0</td>\n",
       "      <td>0.0</td>\n",
       "      <td>0.0</td>\n",
       "      <td>0.0</td>\n",
       "      <td>0.0</td>\n",
       "      <td>0.0</td>\n",
       "    </tr>\n",
       "    <tr>\n",
       "      <th>1649642</th>\n",
       "      <td>0</td>\n",
       "      <td>0</td>\n",
       "      <td>0</td>\n",
       "      <td>9</td>\n",
       "      <td>1</td>\n",
       "      <td>35</td>\n",
       "      <td>35</td>\n",
       "      <td>12</td>\n",
       "      <td>0.0</td>\n",
       "      <td>0.0</td>\n",
       "      <td>...</td>\n",
       "      <td>0.0</td>\n",
       "      <td>0.0</td>\n",
       "      <td>1.0</td>\n",
       "      <td>0.0</td>\n",
       "      <td>1.0</td>\n",
       "      <td>0.0</td>\n",
       "      <td>0.0</td>\n",
       "      <td>0.0</td>\n",
       "      <td>0.0</td>\n",
       "      <td>0.0</td>\n",
       "    </tr>\n",
       "    <tr>\n",
       "      <th>680721</th>\n",
       "      <td>0</td>\n",
       "      <td>1</td>\n",
       "      <td>0</td>\n",
       "      <td>4</td>\n",
       "      <td>4</td>\n",
       "      <td>56</td>\n",
       "      <td>56</td>\n",
       "      <td>4</td>\n",
       "      <td>0.0</td>\n",
       "      <td>0.0</td>\n",
       "      <td>...</td>\n",
       "      <td>0.0</td>\n",
       "      <td>1.0</td>\n",
       "      <td>0.0</td>\n",
       "      <td>0.0</td>\n",
       "      <td>0.0</td>\n",
       "      <td>1.0</td>\n",
       "      <td>0.0</td>\n",
       "      <td>0.0</td>\n",
       "      <td>0.0</td>\n",
       "      <td>0.0</td>\n",
       "    </tr>\n",
       "  </tbody>\n",
       "</table>\n",
       "<p>5 rows × 70 columns</p>\n",
       "</div>"
      ],
      "text/plain": [
       "         label  gender  education  ageGroup  NumOfCrea_ad  \\\n",
       "1728107      0       1          1         5             1   \n",
       "2648357      0       2          0         4             4   \n",
       "463467       0       2          3         4             1   \n",
       "1649642      0       0          0         9             1   \n",
       "680721       0       1          0         4             4   \n",
       "\n",
       "         NumOfCrea_advertiser  NumOfCrea_app  NumOfCrea_Cam  Max(number)  \\\n",
       "1728107                   160            713              1         10.0   \n",
       "2648357                    56             56              4          8.0   \n",
       "463467                      4              4              1          0.0   \n",
       "1649642                    35             35             12          0.0   \n",
       "680721                     56             56              4          0.0   \n",
       "\n",
       "         numOfApp       ...        appCategory_204.0  sitesetID_0  \\\n",
       "1728107      67.0       ...                      0.0          0.0   \n",
       "2648357      62.0       ...                      1.0          1.0   \n",
       "463467        0.0       ...                      0.0          0.0   \n",
       "1649642       0.0       ...                      0.0          0.0   \n",
       "680721        0.0       ...                      0.0          1.0   \n",
       "\n",
       "         sitesetID_1  sitesetID_2  positionType_1  positionType_0  \\\n",
       "1728107          1.0          0.0             1.0             0.0   \n",
       "2648357          0.0          0.0             0.0             1.0   \n",
       "463467           1.0          0.0             1.0             0.0   \n",
       "1649642          1.0          0.0             1.0             0.0   \n",
       "680721           0.0          0.0             0.0             1.0   \n",
       "\n",
       "         positionType_2  positionType_3  positionType_4  positionType_5  \n",
       "1728107             0.0             0.0             0.0             0.0  \n",
       "2648357             0.0             0.0             0.0             0.0  \n",
       "463467              0.0             0.0             0.0             0.0  \n",
       "1649642             0.0             0.0             0.0             0.0  \n",
       "680721              0.0             0.0             0.0             0.0  \n",
       "\n",
       "[5 rows x 70 columns]"
      ]
     },
     "execution_count": 281,
     "metadata": {},
     "output_type": "execute_result"
    }
   ],
   "source": [
    "df_all_train_1.sample(5)"
   ]
  },
  {
   "cell_type": "markdown",
   "metadata": {},
   "source": [
    "#### 6. 尝试用xgboos算法"
   ]
  }
 ],
 "metadata": {
  "kernelspec": {
   "display_name": "Python 3",
   "language": "python",
   "name": "python3"
  },
  "language_info": {
   "codemirror_mode": {
    "name": "ipython",
    "version": 3
   },
   "file_extension": ".py",
   "mimetype": "text/x-python",
   "name": "python",
   "nbconvert_exporter": "python",
   "pygments_lexer": "ipython3",
   "version": "3.6.0"
  }
 },
 "nbformat": 4,
 "nbformat_minor": 2
}
